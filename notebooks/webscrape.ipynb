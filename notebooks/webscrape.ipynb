{
 "cells": [
  {
   "cell_type": "code",
   "execution_count": 34,
   "metadata": {
    "collapsed": true
   },
   "outputs": [],
   "source": [
    "import requests\n",
    "from pymongo import MongoClient\n",
    "import pyspark as ps\n",
    "from bs4 import BeautifulSoup"
   ]
  },
  {
   "cell_type": "code",
   "execution_count": 4,
   "metadata": {
    "collapsed": false
   },
   "outputs": [],
   "source": [
    "# Uses all 4 cores on your machine\n",
    "sc = ps.SparkContext('local[4]')"
   ]
  },
  {
   "cell_type": "code",
   "execution_count": 28,
   "metadata": {
    "collapsed": false
   },
   "outputs": [],
   "source": [
    "class DataCollector(object):\n",
    "\n",
    "    def __init__(self, collection_name):\n",
    "        \n",
    "        self.TYPE_USER = 'user'\n",
    "        self.TYPE_ORG = 'org'\n",
    "        self.collection_name = collection_name\n",
    "        # Get MongoDB\n",
    "        mc = MongoClient()\n",
    "        self.db = mc['changeorg']\n",
    "        self.petitions_col = self.db.collection_name\n",
    "\n",
    "\n",
    "    def get_htmls(self, petition_url, creator_url, petition_id, creator_type):\n",
    "        collection = self.db[self.collection_name + \"_html\"]\n",
    "        #get petition html\n",
    "        petition_response = requests.get(creator_url)\n",
    "        petition_html = petition_response.content\n",
    "        #get creator html\n",
    "        creator_response = requests.get(petition_url)\n",
    "        creator_html = creator_response.content\n",
    "        #save backup of html in mongodb\n",
    "        htmls_dict = {'petition_id': petition_id, 'petition_url': petition_url, \n",
    "                      'creator_url': creator_url, 'petition_html':html, \n",
    "                      'creator_html': creator_html, 'creator_type': creator_type}\n",
    "        collection.insert(htmls_dict)\n",
    "        \n",
    "        return (petition_html, creator_html)\n",
    "\n",
    "    def get_detailed_data(self):\n",
    "        petitions = self.petitions_col.find().limit(2)\n",
    "        for petition in petitions:\n",
    "            print petition[\"_id\"]\n",
    "            petition_id = petition[\"petition_id\"]\n",
    "            #Get html\n",
    "            self.get_html(petition[\"url\"], petition_id, self.TYPE_PETITION)\n",
    "            # Get user\n",
    "            creator_url = petition[\"creator_url\"]\n",
    "            org_url = petition[\"organization_url\"]\n",
    "            if creator_url: \n",
    "                creator_type = self.TYPE_USER               \n",
    "            elif org_url: \n",
    "                creator_type =  self.TYPE_ORG\n",
    "            html = self.get_html(org_url, petition_id, creator_type)\n",
    "            new_fields = self.webscrape(petition, petition_html, creator_html, creator_type)\n",
    "            self.petitions_col.update(\n",
    "                {'_id': petition['_id']},\n",
    "                    {\n",
    "                     '$set': new_fields\n",
    "                }, upsert=False)\n",
    "    def webscrape(self, petition, petition_html, creator_html, creator_type):\n",
    "        new_fields = {}\n",
    "        \n",
    "        return new_fields\n",
    "\n"
   ]
  },
  {
   "cell_type": "code",
   "execution_count": 29,
   "metadata": {
    "collapsed": true
   },
   "outputs": [],
   "source": [
    "dc = DataCollector(\"sample_us_closed_petitions\")"
   ]
  },
  {
   "cell_type": "code",
   "execution_count": 30,
   "metadata": {
    "collapsed": false
   },
   "outputs": [
    {
     "name": "stdout",
     "output_type": "stream",
     "text": [
      "{u'status': u'closed', u'category': u'Environment', u'organization_url': None, u'goal': 5000, u'creator_name': u'Christopher David Moore', u'title': u\"Freeze all of BP's assets, before it is too late\", u'url': u'https://api.change.org/p/freeze-all-of-bp-s-assets-before-it-is-too-late', u'overview': u'<p>In the construction industry, builders that get sued for one reason or another simply drop their company name to escape paying law suits. It only takes 6 hours to\\xa0make a new company.(REBRANDING) Same owner, same company practices, different name and zero responsibility to the lawsuits of prior company.</p>\\n<p>This could be the reason BP is slow to act. Stall tactics so they can move things around. False accounts to how much oil is spewing out daily, because the amount matters in terms of fines levied against them.</p>\\n<p>We must act NOW. WE MUST ACT NOW BEFORE BP RUNS AND HIDES UNDER ANOTHER NAME.</p>\\n<p>FREEZE ALL THAT IS CONNECTED TO BP!\\xa0\\xa0THE OWNERS ASSETS TOO, \\xa0just as the EPA would do if\\xa0 ordinary citizens were dumping toxic chemicals in the creeks or on land.</p>', u'created_at': u'2010-05-31T09:14:21Z', u'signature_count': 279, u'end_at': u'2010-08-29T23:59:59Z', u'organization_name': None, u'letter_body': u'You must freeze all of BP\\'s assets before they hide under a new company name, before they re brand. You must do this before the people of the United States have to flip the bill on the clean up. If you do not freeze all of BP\\'s assets and owners assets, under the EPA\\'s authority, we the people will consider this inaction a crime against us. We shall not pay a dime for the incompetents of BP and those who were suppose to oversee the drilling procedure. That is the federal government of the United States of America. \\n\\nWe the people have every right to DEMAND this action, be taken quickly and without hesitation. This is our country. British Petroleum has desecrated our waters and our lands. They must pay for their unmistakable incompetence. \\n\\nBritish Petroleum must not escape paying the bill in full. From plugging the leak to cleaning the waters and lands effected to providing the funds to keep everyone in the area above water on their living expenses to all projected profits of the fisheries to the expected impact for years to come. Anyone and everyone!!! Everyone in the area must be made whole plus compensated for their suffering. The stress of wondering if their lives will ever be the same is worth something grand. Is it not?\\n\\nWe DEMAND ACTION NOW on these matters, so that BP can not escape after to spill is plugged. You must act now so that, in the end, our country can say \"Yes, the politicians covered our butts on this one.\"\\n\\nThank you for your time on this matter and PLEASE ACT QUICKLY before it is too late. DO NOT TRUST BP TO DO WHAT IS RIGHT!!!!  They are destroyers of Eco-systems for profit!!!', u'petition_id': 30001, u'creator_url': u'https://api.change.org/u/moorsey', u'_id': ObjectId('5780937fd9ccb32891d1cbb7'), u'image_url': u'https://d22r54gnmuhwmk.cloudfront.net/app-assets/petitions/show/default_petition-8290d88b72fb74c3e759135dcbc48b22.png', u'targets': [{u'type': u'us_government', u'name': u'President of the United States'}, {u'type': u'us_government', u'name': u'U.S. Senate'}, {u'type': u'us_government', u'name': u'U.S. House of Representatives'}]}\n",
      "{u'status': u'closed', u'category': u'Gay Rights', u'organization_url': None, u'goal': 500, u'creator_name': u'jan Lightfootlane', u'title': u'Dont mix Catholic Mass, with Gay Bashing', u'url': u'https://api.change.org/p/dont-mix-catholic-mass-with-gay-bashing', u'overview': u'<p>If state cannot mix with the church business. is it wrong to take another collection \"at\" the Church service, or mass, for\\xa0Mixing Church in state \"gay\"\\xa0business?\\xa0 That is the question I ask.</p>\\n<p>Maine Catholics collect money to use on an anti-gay cause from the Pulpit. WRONG State matters can be taken up and funds for those causes in the fellowship rooms. Not from the santuary. To much pressure can be applied-\"If you are good Catholic Give generously, or go to you know where.</p>\\n<p>This\\xa0hurt \\'s all GLTBQ, even those of poverty. I would like someone of power to ask Janet Mills, Maine\\'s Attorney General, \\xa0to take this valid question\\xa0to the Maine Superme Court for an answer.\\xa0 Where as church goer\\'s can individual mix in politics can the Catholic Church take a second collection to supress the gays, at Mass?</p>\\n<p>This petition is written on behalf of The Proud Lesbians of Poverty <a href=\"http://health.groups.yahoo.com/group/ProudLesbians/\" rel=\"nofollow\">http://health.groups.yahoo.com/group/ProudLesbians/</a></p>\\n<p>\\xa0</p>', u'created_at': u'2010-05-31T10:20:59Z', u'signature_count': 35, u'end_at': u'2010-08-29T23:59:59Z', u'organization_name': None, u'letter_body': u'This is an important Constitutional issue. So we ask you to take this to question, to the Maine Supreme Court as Soon as possible. If the state cannot mix with the church business? Is it wrong for Church to take another collection \"at\" the Church service, or MASS, for political purposes? Are the Church mixing in state \"gay\" business? \\n\\nMaine Catholics collect money to use on an anti-gay cause from the Pulpit. WRONG State matters can be taken up and funds for those causes in the fellowship rooms. Not from the santuary. To much pressure can be applied-\"If you are good Catholic Give generously, or go to you know where.\"\\n\\nAfter the Mass, they can mix in any hate they wish. But taking a collect to remove Human Rights for Gays should not be a matter of Church, as the Services Proceeds. Before that Collection is taken is the question I ask, should be decided. \\n\\nOr if the Attorney General Cannot obtain a temp. Order to halt the collection the money collected should be given to the poor.\\n\\nThis hurt \\'s all GLTBQ, even those of poverty. I would like someone of power to ask Janet Mills, Maine\\'s Attorney General,  to take this valid question to the Maine Superme Court for an answer.  Where as church goer\\'s can individual mix in politics.  Can the Catholic Church take a second collection, at their services to supress the gays?', u'petition_id': 30003, u'creator_url': u'https://api.change.org/u/421917', u'_id': ObjectId('5780937fd9ccb32891d1cbb9'), u'image_url': u'https://d22r54gnmuhwmk.cloudfront.net/app-assets/petitions/show/default_petition-8290d88b72fb74c3e759135dcbc48b22.png', u'targets': [{u'type': u'us_government', u'name': u'Maine Governor'}]}\n"
     ]
    }
   ],
   "source": [
    "dc.get_detailed_data()"
   ]
  },
  {
   "cell_type": "code",
   "execution_count": null,
   "metadata": {
    "collapsed": true
   },
   "outputs": [],
   "source": []
  }
 ],
 "metadata": {
  "kernelspec": {
   "display_name": "Python 2",
   "language": "python",
   "name": "python2"
  },
  "language_info": {
   "codemirror_mode": {
    "name": "ipython",
    "version": 2
   },
   "file_extension": ".py",
   "mimetype": "text/x-python",
   "name": "python",
   "nbconvert_exporter": "python",
   "pygments_lexer": "ipython2",
   "version": "2.7.12"
  }
 },
 "nbformat": 4,
 "nbformat_minor": 0
}
