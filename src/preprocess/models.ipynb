{
 "cells": [
  {
   "cell_type": "code",
   "execution_count": 8,
   "metadata": {
    "collapsed": true
   },
   "outputs": [],
   "source": [
    "from data_hygiene import clean_data, read_mongo\n",
    "import numpy as np"
   ]
  },
  {
   "cell_type": "code",
   "execution_count": 14,
   "metadata": {
    "collapsed": false
   },
   "outputs": [
    {
     "name": "stdout",
     "output_type": "stream",
     "text": [
      " victories: 131\n",
      "shape: (9423, 40)\n"
     ]
    }
   ],
   "source": [
    "    data = read_mongo(\"changeorg\", \"us_closed_petitions\", {\"petition_id\": {\"$lt\": 236494}})\n",
    "    c_data = clean_data(data)\n",
    "    print \"victories:\" , c_data[c_data.status == \"victory\"][\"status\"].count()\n",
    "    print \"shape:\", c_data.shape\n"
   ]
  },
  {
   "cell_type": "code",
   "execution_count": 15,
   "metadata": {
    "collapsed": false
   },
   "outputs": [
    {
     "name": "stdout",
     "output_type": "stream",
     "text": [
      "<class 'pandas.core.frame.DataFrame'>\n",
      "RangeIndex: 9423 entries, 0 to 9422\n",
      "Data columns (total 40 columns):\n",
      "calculated_goal                               9422 non-null float64\n",
      "category                                      7671 non-null object\n",
      "creator_country                               9422 non-null object\n",
      "creator_has_address                           9423 non-null int64\n",
      "creator_has_contact_email                     9423 non-null int64\n",
      "creator_has_fb_page                           9423 non-null int64\n",
      "creator_has_slug                              9423 non-null int64\n",
      "creator_has_twitter                           9423 non-null int64\n",
      "creator_has_verified_at                       9423 non-null int64\n",
      "creator_has_verified_by                       9423 non-null int64\n",
      "creator_has_verified_req                      9423 non-null int64\n",
      "creator_has_video                             9423 non-null int64\n",
      "creator_has_website                           9423 non-null int64\n",
      "creator_locale                                8394 non-null object\n",
      "creator_state                                 8609 non-null object\n",
      "creator_type                                  9422 non-null object\n",
      "discoverable                                  9423 non-null int64\n",
      "goal                                          9423 non-null int64\n",
      "has_video                                     9423 non-null int64\n",
      "is_pledge                                     9423 non-null int64\n",
      "is_verified_victory                           9423 non-null int64\n",
      "is_victory                                    9423 non-null int64\n",
      "num_past_petitions                            9422 non-null float64\n",
      "num_past_verified_victories                   9422 non-null float64\n",
      "num_past_victories                            9422 non-null float64\n",
      "original_locale                               9422 non-null object\n",
      "status                                        9423 non-null object\n",
      "ask_len                                       9423 non-null int64\n",
      "creator_description_len                       9423 non-null int64\n",
      "creator_mission_len                           9423 non-null int64\n",
      "description_len                               9423 non-null int64\n",
      "display_title_len                             9423 non-null int64\n",
      "days_range_end_at                             9423 non-null int64\n",
      "num_languages                                 9423 non-null int64\n",
      "days_range_last_past_verified_victory_date    9423 non-null int64\n",
      "days_range_last_past_victory_date             9423 non-null int64\n",
      "letter_body_len                               9423 non-null int64\n",
      "overview_len                                  9423 non-null int64\n",
      "num_targets                                   9423 non-null int64\n",
      "title_len                                     9423 non-null int64\n",
      "dtypes: float64(4), int64(29), object(7)\n",
      "memory usage: 2.9+ MB\n"
     ]
    }
   ],
   "source": [
    "c_data.info()\n"
   ]
  },
  {
   "cell_type": "code",
   "execution_count": 16,
   "metadata": {
    "collapsed": false
   },
   "outputs": [
    {
     "data": {
      "text/html": [
       "<div>\n",
       "<table border=\"1\" class=\"dataframe\">\n",
       "  <thead>\n",
       "    <tr style=\"text-align: right;\">\n",
       "      <th></th>\n",
       "      <th>calculated_goal</th>\n",
       "      <th>category</th>\n",
       "      <th>creator_country</th>\n",
       "      <th>creator_has_address</th>\n",
       "      <th>creator_has_contact_email</th>\n",
       "      <th>creator_has_fb_page</th>\n",
       "      <th>creator_has_slug</th>\n",
       "      <th>creator_has_twitter</th>\n",
       "      <th>creator_has_verified_at</th>\n",
       "      <th>creator_has_verified_by</th>\n",
       "      <th>...</th>\n",
       "      <th>description_len</th>\n",
       "      <th>display_title_len</th>\n",
       "      <th>days_range_end_at</th>\n",
       "      <th>num_languages</th>\n",
       "      <th>days_range_last_past_verified_victory_date</th>\n",
       "      <th>days_range_last_past_victory_date</th>\n",
       "      <th>letter_body_len</th>\n",
       "      <th>overview_len</th>\n",
       "      <th>num_targets</th>\n",
       "      <th>title_len</th>\n",
       "    </tr>\n",
       "  </thead>\n",
       "  <tbody>\n",
       "    <tr>\n",
       "      <th>1790</th>\n",
       "      <td>NaN</td>\n",
       "      <td>NaN</td>\n",
       "      <td>NaN</td>\n",
       "      <td>0</td>\n",
       "      <td>0</td>\n",
       "      <td>0</td>\n",
       "      <td>0</td>\n",
       "      <td>0</td>\n",
       "      <td>0</td>\n",
       "      <td>0</td>\n",
       "      <td>...</td>\n",
       "      <td>0</td>\n",
       "      <td>0</td>\n",
       "      <td>90</td>\n",
       "      <td>0</td>\n",
       "      <td>-1</td>\n",
       "      <td>-1</td>\n",
       "      <td>118</td>\n",
       "      <td>94</td>\n",
       "      <td>1</td>\n",
       "      <td>12</td>\n",
       "    </tr>\n",
       "  </tbody>\n",
       "</table>\n",
       "<p>1 rows × 40 columns</p>\n",
       "</div>"
      ],
      "text/plain": [
       "      calculated_goal category creator_country  creator_has_address  \\\n",
       "1790              NaN      NaN             NaN                    0   \n",
       "\n",
       "      creator_has_contact_email  creator_has_fb_page  creator_has_slug  \\\n",
       "1790                          0                    0                 0   \n",
       "\n",
       "      creator_has_twitter  creator_has_verified_at  creator_has_verified_by  \\\n",
       "1790                    0                        0                        0   \n",
       "\n",
       "        ...      description_len  display_title_len  days_range_end_at  \\\n",
       "1790    ...                    0                  0                 90   \n",
       "\n",
       "     num_languages days_range_last_past_verified_victory_date  \\\n",
       "1790             0                                         -1   \n",
       "\n",
       "     days_range_last_past_victory_date  letter_body_len  overview_len  \\\n",
       "1790                                -1              118            94   \n",
       "\n",
       "      num_targets  title_len  \n",
       "1790            1         12  \n",
       "\n",
       "[1 rows x 40 columns]"
      ]
     },
     "execution_count": 16,
     "metadata": {},
     "output_type": "execute_result"
    }
   ],
   "source": [
    "c_data[c_data[\"creator_type\"].isnull()]"
   ]
  },
  {
   "cell_type": "code",
   "execution_count": 19,
   "metadata": {
    "collapsed": false
   },
   "outputs": [],
   "source": [
    "c_data = c_data[c_data[\"creator_type\"].notnull()]"
   ]
  },
  {
   "cell_type": "code",
   "execution_count": 20,
   "metadata": {
    "collapsed": false
   },
   "outputs": [
    {
     "name": "stdout",
     "output_type": "stream",
     "text": [
      "<class 'pandas.core.frame.DataFrame'>\n",
      "Int64Index: 9422 entries, 0 to 9422\n",
      "Data columns (total 40 columns):\n",
      "calculated_goal                               9422 non-null float64\n",
      "category                                      7671 non-null object\n",
      "creator_country                               9422 non-null object\n",
      "creator_has_address                           9422 non-null int64\n",
      "creator_has_contact_email                     9422 non-null int64\n",
      "creator_has_fb_page                           9422 non-null int64\n",
      "creator_has_slug                              9422 non-null int64\n",
      "creator_has_twitter                           9422 non-null int64\n",
      "creator_has_verified_at                       9422 non-null int64\n",
      "creator_has_verified_by                       9422 non-null int64\n",
      "creator_has_verified_req                      9422 non-null int64\n",
      "creator_has_video                             9422 non-null int64\n",
      "creator_has_website                           9422 non-null int64\n",
      "creator_locale                                8394 non-null object\n",
      "creator_state                                 8609 non-null object\n",
      "creator_type                                  9422 non-null object\n",
      "discoverable                                  9422 non-null int64\n",
      "goal                                          9422 non-null int64\n",
      "has_video                                     9422 non-null int64\n",
      "is_pledge                                     9422 non-null int64\n",
      "is_verified_victory                           9422 non-null int64\n",
      "is_victory                                    9422 non-null int64\n",
      "num_past_petitions                            9422 non-null float64\n",
      "num_past_verified_victories                   9422 non-null float64\n",
      "num_past_victories                            9422 non-null float64\n",
      "original_locale                               9422 non-null object\n",
      "status                                        9422 non-null object\n",
      "ask_len                                       9422 non-null int64\n",
      "creator_description_len                       9422 non-null int64\n",
      "creator_mission_len                           9422 non-null int64\n",
      "description_len                               9422 non-null int64\n",
      "display_title_len                             9422 non-null int64\n",
      "days_range_end_at                             9422 non-null int64\n",
      "num_languages                                 9422 non-null int64\n",
      "days_range_last_past_verified_victory_date    9422 non-null int64\n",
      "days_range_last_past_victory_date             9422 non-null int64\n",
      "letter_body_len                               9422 non-null int64\n",
      "overview_len                                  9422 non-null int64\n",
      "num_targets                                   9422 non-null int64\n",
      "title_len                                     9422 non-null int64\n",
      "dtypes: float64(4), int64(29), object(7)\n",
      "memory usage: 2.9+ MB\n"
     ]
    }
   ],
   "source": [
    "c_data.info()"
   ]
  },
  {
   "cell_type": "code",
   "execution_count": null,
   "metadata": {
    "collapsed": true
   },
   "outputs": [],
   "source": []
  }
 ],
 "metadata": {
  "kernelspec": {
   "display_name": "Python 2",
   "language": "python",
   "name": "python2"
  },
  "language_info": {
   "codemirror_mode": {
    "name": "ipython",
    "version": 2
   },
   "file_extension": ".py",
   "mimetype": "text/x-python",
   "name": "python",
   "nbconvert_exporter": "python",
   "pygments_lexer": "ipython2",
   "version": "2.7.12"
  }
 },
 "nbformat": 4,
 "nbformat_minor": 0
}
